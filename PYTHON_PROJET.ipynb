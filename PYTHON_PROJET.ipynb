{
  "nbformat": 4,
  "nbformat_minor": 0,
  "metadata": {
    "colab": {
      "name": "Untitled0.ipynb",
      "provenance": [],
      "collapsed_sections": []
    },
    "kernelspec": {
      "display_name": "Python 3",
      "language": "python",
      "name": "python3"
    },
    "language_info": {
      "codemirror_mode": {
        "name": "ipython",
        "version": 3
      },
      "file_extension": ".py",
      "mimetype": "text/x-python",
      "name": "python",
      "nbconvert_exporter": "python",
      "pygments_lexer": "ipython3",
      "version": "3.8.3"
    }
  },
  "cells": [
    {
      "cell_type": "code",
      "metadata": {
        "colab": {
          "base_uri": "https://localhost:8080/"
        },
        "id": "DMYpC6fZneDb",
        "outputId": "04b7cf2e-4834-423d-95f0-d893f778c209"
      },
      "source": [
        "pip install opencv-python==4.4.0.46 opencv-contrib-python==4.4.0.40"
      ],
      "execution_count": null,
      "outputs": [
        {
          "output_type": "stream",
          "text": [
            "Collecting opencv-python==4.4.0.46\n",
            "\u001b[?25l  Downloading https://files.pythonhosted.org/packages/6d/80/10a9ae6fa0940f25af32739d1dc6dfdbbdc79af3f04c5ea1a6de4303cd54/opencv_python-4.4.0.46-cp36-cp36m-manylinux2014_x86_64.whl (49.5MB)\n",
            "\u001b[K     |████████████████████████████████| 49.5MB 87kB/s \n",
            "\u001b[?25hCollecting opencv-contrib-python==4.4.0.40\n",
            "\u001b[?25l  Downloading https://files.pythonhosted.org/packages/c0/6e/9091dc9330bafb68f04ff74e2ddf6f8926e3afb8840f3f0b2125b94dade1/opencv_contrib_python-4.4.0.40-cp36-cp36m-manylinux2014_x86_64.whl (55.6MB)\n",
            "\u001b[K     |████████████████████████████████| 55.6MB 79kB/s \n",
            "\u001b[?25hRequirement already satisfied: numpy>=1.13.3 in /usr/local/lib/python3.6/dist-packages (from opencv-python==4.4.0.46) (1.19.5)\n",
            "\u001b[31mERROR: albumentations 0.1.12 has requirement imgaug<0.2.7,>=0.2.5, but you'll have imgaug 0.2.9 which is incompatible.\u001b[0m\n",
            "Installing collected packages: opencv-python, opencv-contrib-python\n",
            "  Found existing installation: opencv-python 4.1.2.30\n",
            "    Uninstalling opencv-python-4.1.2.30:\n",
            "      Successfully uninstalled opencv-python-4.1.2.30\n",
            "  Found existing installation: opencv-contrib-python 4.1.2.30\n",
            "    Uninstalling opencv-contrib-python-4.1.2.30:\n",
            "      Successfully uninstalled opencv-contrib-python-4.1.2.30\n",
            "Successfully installed opencv-contrib-python-4.4.0.40 opencv-python-4.4.0.46\n"
          ],
          "name": "stdout"
        }
      ]
    },
    {
      "cell_type": "code",
      "metadata": {
        "colab": {
          "base_uri": "https://localhost:8080/"
        },
        "id": "7DMVZ0_W4-1U",
        "outputId": "f50f5885-1766-4406-a4d0-89dacc68a7ac"
      },
      "source": [
        "file_id=\"1qAD7StpMovQM2u8g6kgf9CysYs-vZ-P-\"\n",
        "!gdown https://drive.google.com/uc?id={file_id}\n",
        "\n",
        "\n",
        "\n",
        "!unzip -q datasetProjetS5_2020.zip\n",
        "!rm -rf /content/datasetProjetS5_2020/*/Background_without_leaves\n"
      ],
      "execution_count": null,
      "outputs": [
        {
          "output_type": "stream",
          "text": [
            "Downloading...\n",
            "From: https://drive.google.com/uc?id=1qAD7StpMovQM2u8g6kgf9CysYs-vZ-P-\n",
            "To: /content/datasetProjetS5_2020.zip\n",
            "340MB [00:01, 201MB/s]Traceback (most recent call last):\n",
            "  File \"/usr/local/bin/gdown\", line 8, in <module>\n",
            "    sys.exit(main())\n",
            "  File \"/usr/local/lib/python2.7/dist-packages/gdown/cli.py\", line 61, in main\n",
            "    quiet=args.quiet,\n",
            "\n",
            "346MB [00:02, 143MB/s]\n",
            "replace datasetProjetS5_2020/test/Apple___Apple_scab/image (504).JPG? [y]es, [n]o, [A]ll, [N]one, [r]ename: b\n",
            "error:  invalid response [b]\n",
            "replace datasetProjetS5_2020/test/Apple___Apple_scab/image (504).JPG? [y]es, [n]o, [A]ll, [N]one, [r]ename: "
          ],
          "name": "stdout"
        }
      ]
    },
    {
      "cell_type": "code",
      "metadata": {
        "id": "UzYuC3xYJmFg"
      },
      "source": [
        "from sklearn.metrics import confusion_matrix, accuracy_score\r\n",
        "from sklearn.metrics import classification_report\r\n",
        "from sklearn.model_selection import GridSearchCV\r\n",
        "from sklearn.svm import SVC\r\n",
        "import joblib\r\n",
        "import cv2\r\n",
        "import numpy as np\r\n",
        "import matplotlib.pyplot as plt\r\n",
        "import os\r\n"
      ],
      "execution_count": null,
      "outputs": []
    },
    {
      "cell_type": "code",
      "metadata": {
        "id": "652mj7Ke5EuL"
      },
      "source": [
        "\n",
        "\n",
        "def TRAIN_DATA(C,D):\n",
        "\n",
        "  TRAIN_DATA=[]\n",
        "  DESC_NULL=[]\n",
        "  x=0\n",
        "  sift=cv2.SIFT_create()\n",
        "\n",
        "\n",
        "  for i in range(0,38):\n",
        "    DETECTOR=x\n",
        "\n",
        "    x=x+len(os.listdir('datasetProjetS5_2020/train/'+C[i]))\n",
        "    print(\"ON DETECTE MAINTENANT le\", i+1 , \"éme classe de dossier train\")\n",
        "\n",
        "\n",
        "\n",
        "    for j in range(DETECTOR,x):\n",
        "        BOW = cv2.BOWKMeansTrainer(1)\n",
        "        K , F = sift.detectAndCompute(D[j],None)\n",
        "        if(F is not None):\n",
        "          BOW.add(F)\n",
        "          TRAIN_DATA.append(BOW.cluster())\n",
        "        else :\n",
        "          DESC_NULL.append(j)\n",
        "  \n",
        "  return TRAIN_DATA,DESC_NULL\n",
        "\n",
        "\n",
        "\n"
      ],
      "execution_count": null,
      "outputs": []
    },
    {
      "cell_type": "code",
      "metadata": {
        "id": "Uq4GDqUjpk3D"
      },
      "source": [
        "def TEST_DATA(C,D):\r\n",
        "  TEST_DATA = []\r\n",
        "  sift=cv2.SIFT_create()\r\n",
        "  DESC_NULL=[]\r\n",
        "  x=0\r\n",
        "  print(\"TRAITEMENT TEST :\")\r\n",
        "      \r\n",
        "\r\n",
        "  \r\n",
        "  for i in range(0,38):\r\n",
        "    DETECTOR=x\r\n",
        "    x=x+len(os.listdir('datasetProjetS5_2020/test/'+C[i]))\r\n",
        "    print(\"ON DETECTE MAINTENANT le\", i+1 , \"éme classe de dossier test\")\r\n",
        "\r\n",
        "\r\n",
        "    for j in range(DETECTOR,x):\r\n",
        "        BOW = cv2.BOWKMeansTrainer(1)\r\n",
        "        K , F = sift.detectAndCompute(D[j],None)\r\n",
        "        if(F is not None):\r\n",
        "          BOW.add(F)\r\n",
        "          TEST_DATA.append(BOW.cluster())\r\n",
        "        else :\r\n",
        "          DESC_NULL.append(j)\r\n",
        "  \r\n",
        "  return TEST_DATA,DESC_NULL"
      ],
      "execution_count": null,
      "outputs": []
    },
    {
      "cell_type": "code",
      "metadata": {
        "id": "rtY-TH6NpgGa"
      },
      "source": [
        "                  \r\n",
        "def ID(LABELS):\r\n",
        "  LABEL=[]\r\n",
        "  class_index = -1\r\n",
        "  for target in LABELS:\r\n",
        "        if(\"\"\"Apple___Apple_scab\"\"\" == target):\r\n",
        "            class_index = 0\r\n",
        "        elif(\"\"\"Apple___Black_rot\"\"\" == target):\r\n",
        "            class_index = 1\r\n",
        "        elif(\"\"\"Apple___Cedar_apple_rust\"\"\" == target):\r\n",
        "            class_index = 2\r\n",
        "        elif(\"\"\"Apple___healthy\"\"\" == target):\r\n",
        "            class_index = 3\r\n",
        "        elif(\"Blueberry___healthy\" == target):\r\n",
        "            class_index = 4\r\n",
        "        elif(\"Cherry___healthy\" == target):\r\n",
        "          class_index = 5\r\n",
        "        elif(\"Cherry___Powdery_mildew\" == target):\r\n",
        "          class_index = 6\r\n",
        "        elif(\"Corn___Cercospora_leaf_spot Gray_leaf_spot\" == target):\r\n",
        "          class_index = 7\r\n",
        "        elif(\"Corn___Common_rust\" == target):\r\n",
        "          class_index = 8\r\n",
        "        elif(\"Corn___healthy\" == target):\r\n",
        "          class_index = 9\r\n",
        "        elif(\"Corn___Northern_Leaf_Blight\" == target):\r\n",
        "          class_index = 10\r\n",
        "        elif(\"Grape___Black_rot\" == target):\r\n",
        "          class_index = 11\r\n",
        "        elif(\"Grape___Esca_(Black_Measles)\" == target):\r\n",
        "          class_index = 12\r\n",
        "        elif(\"Grape___healthy\" == target):\r\n",
        "          class_index = 13\r\n",
        "        elif(\"Grape___Leaf_blight_(Isariopsis_Leaf_Spot)\" == target):\r\n",
        "          class_index = 14\r\n",
        "        elif(\"Orange___Haunglongbing_(Citrus_greening)\" == target):\r\n",
        "          class_index = 15\r\n",
        "        elif(\"Peach___Bacterial_spot\" == target):\r\n",
        "          class_index = 16\r\n",
        "        elif(\"Peach___healthy\" == target):\r\n",
        "          class_index = 17\r\n",
        "        elif(\"Pepper,_bell___Bacterial_spot\" == target):\r\n",
        "          class_index = 18\r\n",
        "        elif(\"Pepper,_bell___healthy\" == target):\r\n",
        "          class_index = 19\r\n",
        "        elif(\"Potato___Early_blight\" == target):\r\n",
        "          class_index = 20\r\n",
        "        elif(\"Potato___healthy\" == target):\r\n",
        "          class_index = 21\r\n",
        "        elif(\"Potato___Late_blight\" == target):\r\n",
        "          class_index = 22\r\n",
        "        elif(\"Raspberry___healthy\" == target):\r\n",
        "          class_index = 23\r\n",
        "        elif(\"Soybean___healthy\" == target):\r\n",
        "          class_index = 24\r\n",
        "        elif(\"Squash___Powdery_mildew\" == target):\r\n",
        "          class_index = 25\r\n",
        "        elif(\"Strawberry___healthy\" == target):\r\n",
        "          class_index = 26\r\n",
        "        elif(\"Strawberry___Leaf_scorch\" == target):\r\n",
        "          class_index = 27\r\n",
        "        elif(\"Tomato___Bacterial_spot\" == target):\r\n",
        "          class_index = 28\r\n",
        "        elif(\"Tomato___Early_blight\" == target):\r\n",
        "          class_index = 29\r\n",
        "        elif(\"Tomato___healthy\" == target):\r\n",
        "          class_index = 30\r\n",
        "        elif(\"Tomato___Late_blight\" == target):\r\n",
        "          class_index = 31\r\n",
        "        elif(\"Tomato___Leaf_Mold\" == target):\r\n",
        "          class_index = 32\r\n",
        "        elif(\"Tomato___Septoria_leaf_spot\" == target):\r\n",
        "          class_index = 33\r\n",
        "        elif(\"Tomato___Spider_mites Two-spotted_spider_mite\" == target):\r\n",
        "          class_index = 34\r\n",
        "        elif(\"Tomato___Target_Spot\" == target):\r\n",
        "          class_index = 35\r\n",
        "        elif(\"Tomato___Tomato_mosaic_virus\" == target):\r\n",
        "          class_index = 36\r\n",
        "        elif(\"Tomato___Tomato_Yellow_Leaf_Curl_Virus\" == target):\r\n",
        "          class_index = 37\r\n",
        "        LABEL.append(class_index)\r\n",
        "  return LABEL"
      ],
      "execution_count": null,
      "outputs": []
    },
    {
      "cell_type": "code",
      "metadata": {
        "id": "66BmUiwhpbXi"
      },
      "source": [
        "def DELETE_IMAGE_FALSE(x,y,num): \r\n",
        "  for i in range(len(x)-num-1,0,-1):\r\n",
        "    if(len(x[i][0])!=128):\r\n",
        "      x.pop(i)\r\n",
        "      y.pop(i)\r\n",
        "def IMAGE_FALSE(x):\r\n",
        "  IMAGE_FALSE=[]\r\n",
        "  for i in range(len(x)):\r\n",
        "    if(len(x[i][0])!=128):\r\n",
        "      IMAGE_FALSE.append(i)\r\n",
        "  return len(IMAGE_FALSE)\r\n",
        "def DELETE_LIST(x,N):\r\n",
        "  N.reverse()\r\n",
        "  for i in N:\r\n",
        "    x.pop(i)\r\n",
        "  return x\r\n",
        "def entrainer(x_train,y_train):\r\n",
        "  svc = SVC(class_weight='balanced',\r\n",
        "    decision_function_shape='ovo', kernel='rbf')\r\n",
        "  svc.fit(x_train,y_train)\r\n",
        "  return svc\r\n",
        "def troisd_vers_deuxd(x):\r\n",
        "  for i in range(len(x)):\r\n",
        "    x[i]=x[i][0]\r\n",
        "  return x\r\n",
        "def NETTOYER(y,ynvalid,x):\r\n",
        "  y=DELETE_LIST(y,ynvalid)\r\n",
        "  \r\n",
        "  num= IMAGE_FALSE(x)\r\n",
        "  DELETE_IMAGE_FALSE(x,y,num)\r\n",
        "  return x,y"
      ],
      "execution_count": null,
      "outputs": []
    },
    {
      "cell_type": "code",
      "metadata": {
        "id": "ii9S7YoxpX0e"
      },
      "source": [
        "def CLASS_NAME():\r\n",
        "  LABELS = os.listdir('datasetProjetS5_2020/train')\r\n",
        "  LABELS.sort()\r\n",
        "  CLASS_S=[0]*38\r\n",
        "  for i in range(38):\r\n",
        "    CLASS_S[i]=LABELS[i]\r\n",
        "  return CLASS_S"
      ],
      "execution_count": null,
      "outputs": []
    },
    {
      "cell_type": "code",
      "metadata": {
        "id": "OgU0L8PYpVXC"
      },
      "source": [
        "def x_test_y_test():\r\n",
        "  print(\"TEST IMPORTATION :\")\r\n",
        "  classe = os.listdir('datasetProjetS5_2020/test')\r\n",
        "  classe.sort()\r\n",
        "  IMAGES_NAMES=[]\r\n",
        "  TARGET=[]\r\n",
        "\r\n",
        "  for i in range(38):\r\n",
        "    SIN =os.listdir('datasetProjetS5_2020/test/'+classe[i])\r\n",
        "    SIN.sort()\r\n",
        "\r\n",
        "    for j in range(len(SIN)):\r\n",
        "        SIN[j]='datasetProjetS5_2020/test/'+classe[i]+'/'+SIN[j]\r\n",
        "        TARGET.append(classe[i])\r\n",
        "        IMAGES_NAMES.append(SIN[j])\r\n",
        "\r\n",
        "  IMAGES=[]\r\n",
        "  for k in range(len(IMAGES_NAMES)):\r\n",
        "    img =cv2.imread(str(IMAGES_NAMES[k]),cv2.IMREAD_GRAYSCALE)\r\n",
        "    IMAGES.append(img)\r\n",
        "   \r\n",
        "  \r\n",
        "  TEST_DONNEES,y_test=  IMAGES ,TARGET \r\n",
        "\r\n",
        "  y_test= ID(y_test)\r\n",
        "  x_test,y_test_nvid=TEST_DATA(CLASS_NAME(),TEST_DONNEES)\r\n",
        "\r\n",
        "  x_test,y_test=NETTOYER(y_test,y_test_nvid,x_test)\r\n",
        "\r\n",
        "  x_test = troisd_vers_deuxd(x_test)\r\n",
        "\r\n",
        "  return x_test,y_test\r\n",
        " \r\n",
        "          "
      ],
      "execution_count": null,
      "outputs": []
    },
    {
      "cell_type": "code",
      "metadata": {
        "id": "D_01cEIHpQUi"
      },
      "source": [
        "def x_train_y_train():\r\n",
        "\r\n",
        "\r\n",
        "  print(\"TRAIN IMPORTATION :\")\r\n",
        "  classe = os.listdir('datasetProjetS5_2020/train')\r\n",
        "  classe.sort()\r\n",
        "  IMAGES_NAMES=[]\r\n",
        "  LABELS=[]\r\n",
        "\r\n",
        "  for i in range(38):\r\n",
        "    SIN=os.listdir('datasetProjetS5_2020/train/'+classe[i])\r\n",
        "    SIN.sort()\r\n",
        "\r\n",
        "    for j in range(len(SIN)):\r\n",
        "        SIN[j]='datasetProjetS5_2020/train/'+classe[i]+'/'+SIN[j]\r\n",
        "        LABELS.append(classe[i])\r\n",
        "        IMAGES_NAMES.append(SIN[j])\r\n",
        "\r\n",
        "  IMAGES=[]\r\n",
        "  for k in range(len(IMAGES_NAMES)):\r\n",
        "    img =cv2.imread(str(IMAGES_NAMES[k]),cv2.IMREAD_GRAYSCALE)\r\n",
        "    IMAGES.append(img)\r\n",
        "  \r\n",
        "  TRAIN_DONNEES,y_train= IMAGES ,LABELS\r\n",
        "\r\n",
        "  \r\n",
        "  y_train= ID(y_train)\r\n",
        "\r\n",
        "  x_train,y_train_nvid=TRAIN_DATA(CLASS_NAME(),TRAIN_DONNEES)\r\n",
        "\r\n",
        "  \r\n",
        "  x_train,y_train=NETTOYER(y_train,y_train_nvid,x_train)\r\n",
        "\r\n",
        "  x_train = troisd_vers_deuxd(x_train)\r\n",
        "  \r\n",
        "\r\n",
        "  return x_train,y_train"
      ],
      "execution_count": null,
      "outputs": []
    },
    {
      "cell_type": "code",
      "metadata": {
        "id": "Th825ccbpOJp"
      },
      "source": [
        "def ACCURACY(x_test,y_test,svc):\r\n",
        "  resultat=svc.predict(x_test)\r\n",
        "  score = svc.score(x_test, y_test)\r\n",
        "  accuracy = accuracy_score(y_test, resultat)\r\n",
        "  accuracy = accuracy * 100\r\n",
        "  POURCENTAGE_ACCURANCY = int(accuracy)\r\n",
        "  print (\"LA POURCENTAGE D'ACCURACY DE VOTRE MODEL EST : \", POURCENTAGE_ACCURANCY   ,  \"%\")"
      ],
      "execution_count": null,
      "outputs": []
    },
    {
      "cell_type": "code",
      "metadata": {
        "id": "EvJvt4pkpMNi"
      },
      "source": [
        "def IMAGE_PRE(lien,clf):\r\n",
        "    img = cv2.imread(lien,cv2.IMREAD_GRAYSCALE)\r\n",
        "    x_test=[]\r\n",
        "    prediction = -1\r\n",
        "    sift=cv2.SIFT_create()\r\n",
        "    BOW = cv2.BOWKMeansTrainer(1)\r\n",
        "    K , F = sift.detectAndCompute(img,None)\r\n",
        "    if(F is not None):\r\n",
        "      BOW.add(F)\r\n",
        "      x_test=BOW.cluster()\r\n",
        "      prediction=clf.predict(x_test)\r\n",
        "    print(\"INDEX DE LA PREDICTION EST : \",prediction) "
      ],
      "execution_count": null,
      "outputs": []
    },
    {
      "cell_type": "code",
      "metadata": {
        "colab": {
          "base_uri": "https://localhost:8080/"
        },
        "id": "uFawjQj_6Jlv",
        "outputId": "53e39fdb-d431-43ac-9412-548193c21ee8"
      },
      "source": [
        "x_train,y_train =x_train_y_train()"
      ],
      "execution_count": null,
      "outputs": [
        {
          "output_type": "stream",
          "text": [
            "TRAIN IMPORTATION :\n",
            "ON DETECTE MAINTENANT le 1 éme classe de dossier train\n",
            "ON DETECTE MAINTENANT le 2 éme classe de dossier train\n",
            "ON DETECTE MAINTENANT le 3 éme classe de dossier train\n",
            "ON DETECTE MAINTENANT le 4 éme classe de dossier train\n",
            "ON DETECTE MAINTENANT le 5 éme classe de dossier train\n",
            "ON DETECTE MAINTENANT le 6 éme classe de dossier train\n",
            "ON DETECTE MAINTENANT le 7 éme classe de dossier train\n",
            "ON DETECTE MAINTENANT le 8 éme classe de dossier train\n",
            "ON DETECTE MAINTENANT le 9 éme classe de dossier train\n",
            "ON DETECTE MAINTENANT le 10 éme classe de dossier train\n",
            "ON DETECTE MAINTENANT le 11 éme classe de dossier train\n",
            "ON DETECTE MAINTENANT le 12 éme classe de dossier train\n",
            "ON DETECTE MAINTENANT le 13 éme classe de dossier train\n",
            "ON DETECTE MAINTENANT le 14 éme classe de dossier train\n",
            "ON DETECTE MAINTENANT le 15 éme classe de dossier train\n",
            "ON DETECTE MAINTENANT le 16 éme classe de dossier train\n",
            "ON DETECTE MAINTENANT le 17 éme classe de dossier train\n",
            "ON DETECTE MAINTENANT le 18 éme classe de dossier train\n",
            "ON DETECTE MAINTENANT le 19 éme classe de dossier train\n",
            "ON DETECTE MAINTENANT le 20 éme classe de dossier train\n",
            "ON DETECTE MAINTENANT le 21 éme classe de dossier train\n",
            "ON DETECTE MAINTENANT le 22 éme classe de dossier train\n",
            "ON DETECTE MAINTENANT le 23 éme classe de dossier train\n",
            "ON DETECTE MAINTENANT le 24 éme classe de dossier train\n",
            "ON DETECTE MAINTENANT le 25 éme classe de dossier train\n",
            "ON DETECTE MAINTENANT le 26 éme classe de dossier train\n",
            "ON DETECTE MAINTENANT le 27 éme classe de dossier train\n",
            "ON DETECTE MAINTENANT le 28 éme classe de dossier train\n",
            "ON DETECTE MAINTENANT le 29 éme classe de dossier train\n",
            "ON DETECTE MAINTENANT le 30 éme classe de dossier train\n",
            "ON DETECTE MAINTENANT le 31 éme classe de dossier train\n",
            "ON DETECTE MAINTENANT le 32 éme classe de dossier train\n",
            "ON DETECTE MAINTENANT le 33 éme classe de dossier train\n",
            "ON DETECTE MAINTENANT le 34 éme classe de dossier train\n",
            "ON DETECTE MAINTENANT le 35 éme classe de dossier train\n",
            "ON DETECTE MAINTENANT le 36 éme classe de dossier train\n",
            "ON DETECTE MAINTENANT le 37 éme classe de dossier train\n",
            "ON DETECTE MAINTENANT le 38 éme classe de dossier train\n"
          ],
          "name": "stdout"
        }
      ]
    },
    {
      "cell_type": "code",
      "metadata": {
        "colab": {
          "base_uri": "https://localhost:8080/"
        },
        "id": "PvEUKQXJ2H4Z",
        "outputId": "904f989f-04da-4d8a-c3a8-455de43a7612"
      },
      "source": [
        "x_test,y_test=x_test_y_test()"
      ],
      "execution_count": null,
      "outputs": [
        {
          "output_type": "stream",
          "text": [
            "TEST IMPORTATION :\n",
            "TRAITEMENT TEST :\n",
            "ON DETECTE MAINTENANT le 1 éme classe de dossier test\n",
            "ON DETECTE MAINTENANT le 2 éme classe de dossier test\n",
            "ON DETECTE MAINTENANT le 3 éme classe de dossier test\n",
            "ON DETECTE MAINTENANT le 4 éme classe de dossier test\n",
            "ON DETECTE MAINTENANT le 5 éme classe de dossier test\n",
            "ON DETECTE MAINTENANT le 6 éme classe de dossier test\n",
            "ON DETECTE MAINTENANT le 7 éme classe de dossier test\n",
            "ON DETECTE MAINTENANT le 8 éme classe de dossier test\n",
            "ON DETECTE MAINTENANT le 9 éme classe de dossier test\n",
            "ON DETECTE MAINTENANT le 10 éme classe de dossier test\n",
            "ON DETECTE MAINTENANT le 11 éme classe de dossier test\n",
            "ON DETECTE MAINTENANT le 12 éme classe de dossier test\n",
            "ON DETECTE MAINTENANT le 13 éme classe de dossier test\n",
            "ON DETECTE MAINTENANT le 14 éme classe de dossier test\n",
            "ON DETECTE MAINTENANT le 15 éme classe de dossier test\n",
            "ON DETECTE MAINTENANT le 16 éme classe de dossier test\n",
            "ON DETECTE MAINTENANT le 17 éme classe de dossier test\n",
            "ON DETECTE MAINTENANT le 18 éme classe de dossier test\n",
            "ON DETECTE MAINTENANT le 19 éme classe de dossier test\n",
            "ON DETECTE MAINTENANT le 20 éme classe de dossier test\n",
            "ON DETECTE MAINTENANT le 21 éme classe de dossier test\n",
            "ON DETECTE MAINTENANT le 22 éme classe de dossier test\n",
            "ON DETECTE MAINTENANT le 23 éme classe de dossier test\n",
            "ON DETECTE MAINTENANT le 24 éme classe de dossier test\n",
            "ON DETECTE MAINTENANT le 25 éme classe de dossier test\n",
            "ON DETECTE MAINTENANT le 26 éme classe de dossier test\n",
            "ON DETECTE MAINTENANT le 27 éme classe de dossier test\n",
            "ON DETECTE MAINTENANT le 28 éme classe de dossier test\n",
            "ON DETECTE MAINTENANT le 29 éme classe de dossier test\n",
            "ON DETECTE MAINTENANT le 30 éme classe de dossier test\n",
            "ON DETECTE MAINTENANT le 31 éme classe de dossier test\n",
            "ON DETECTE MAINTENANT le 32 éme classe de dossier test\n",
            "ON DETECTE MAINTENANT le 33 éme classe de dossier test\n",
            "ON DETECTE MAINTENANT le 34 éme classe de dossier test\n",
            "ON DETECTE MAINTENANT le 35 éme classe de dossier test\n",
            "ON DETECTE MAINTENANT le 36 éme classe de dossier test\n",
            "ON DETECTE MAINTENANT le 37 éme classe de dossier test\n",
            "ON DETECTE MAINTENANT le 38 éme classe de dossier test\n"
          ],
          "name": "stdout"
        }
      ]
    },
    {
      "cell_type": "code",
      "metadata": {
        "id": "wfoMsGKoJoP5"
      },
      "source": [
        "clf=entrainer(x_train,y_train)"
      ],
      "execution_count": null,
      "outputs": []
    },
    {
      "cell_type": "code",
      "metadata": {
        "colab": {
          "base_uri": "https://localhost:8080/"
        },
        "id": "-pB6V_ftXBxH",
        "outputId": "87085e85-6888-4689-c0fb-cb36e3897f84"
      },
      "source": [
        "ACCURACY(x_test,y_test,clf)"
      ],
      "execution_count": null,
      "outputs": [
        {
          "output_type": "stream",
          "text": [
            "LA POURCENTAGE D'ACCURACY DANS VOTRE MODEL EST :  64 %\n"
          ],
          "name": "stdout"
        }
      ]
    },
    {
      "cell_type": "code",
      "metadata": {
        "colab": {
          "base_uri": "https://localhost:8080/"
        },
        "id": "qH-ZPBbKMoPc",
        "outputId": "23a2a0f3-57e9-4e2f-c5dc-ae396ddda448"
      },
      "source": [
        "IMAGE_PRE(\"/content/datasetProjetS5_2020/valid/Apple___Black_rot/image (404).JPG\",clf)"
      ],
      "execution_count": null,
      "outputs": [
        {
          "output_type": "stream",
          "text": [
            "INDEX DE LA PREDICTION EST  [1]\n"
          ],
          "name": "stdout"
        }
      ]
    }
  ]
}